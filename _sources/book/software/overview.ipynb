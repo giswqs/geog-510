{
 "cells": [
  {
   "cell_type": "markdown",
   "id": "465d23ef",
   "metadata": {},
   "source": [
    "# Overview\n",
    "\n",
    "## Software Tools\n",
    "\n",
    "In this course, we will use essential software tools that streamline development, version control, and geospatial analysis. Make sure you have these installed and configured:\n",
    "\n",
    "- **[Visual Studio Code](https://code.visualstudio.com/)**: A lightweight, highly customizable code editor with robust extensions for Python development.\n",
    "- **[Git](https://git-scm.com/downloads)**: A version control system for tracking code changes and collaborating on projects.\n",
    "- **[Miniconda](https://docs.conda.io/en/latest/miniconda.html)** or **[Anaconda](https://www.anaconda.com/)**: Python distribution platforms that simplify environment management and package installation.\n",
    "- **[QGIS](https://qgis.org)**: An open-source GIS software that complements Python tools for geospatial data visualization and analysis.\n",
    "\n",
    "_Tip:_ If you're new to any of these tools, refer to their official documentation for setup guides or seek tutorials in the course **Software Tools** section.\n",
    "\n",
    "## Cloud Computing Platforms\n",
    "\n",
    "Geospatial analysis often involves large datasets and computationally intensive tasks. Cloud platforms provide scalable solutions to handle these efficiently. Here are some popular options:\n",
    "\n",
    "- **[Google Colab](https://research.google.com/colaboratory)**: A free Jupyter notebook environment with pre-installed Python packages, ideal for coding on the go. _We will primarily use this platform in the course._\n",
    "- **[Google Earth Engine](https://earthengine.google.com/)**: A cloud-based platform for processing geospatial data, especially remote sensing imagery.\n",
    "- **[Amazon SageMaker Studio Lab](https://studiolab.sagemaker.aws)**: Offers free cloud computing resources for Python-based machine learning and data analysis.\n",
    "- **[Microsoft Planetary Computer](https://planetarycomputer.microsoft.com/)**: Provides geospatial datasets and APIs for large-scale environmental analysis.\n",
    "\n",
    "### Why Use Google Colab?\n",
    "\n",
    "- **Accessibility:** Works entirely in the browser, so no setup is required.\n",
    "- **Free Resources:** Includes free access to GPUs/TPUs for advanced computations.\n",
    "- **Integration:** Supports popular geospatial libraries like GeoPandas, Shapely, and Leafmap out of the box.\n",
    "\n",
    "To get started, visit [colab.research.google.com](https://colab.research.google.com) and sign in with your Google account.\n",
    "\n",
    "## Install Python Packages\n",
    "\n",
    "There are different ways to install Python packages. The most common methods are using `pip` or `conda`. Here are some examples:\n",
    "\n",
    "To install packages using `pip`:\n",
    "\n",
    "```bash\n",
    "pip install leafmap\n",
    "```\n",
    "\n",
    "To install packages using `conda`:\n",
    "\n",
    "```bash\n",
    "conda install leafmap -c conda-forge\n",
    "```\n",
    "\n",
    "To install packages from a GitHub repository:\n",
    "\n",
    "```bash\n",
    "pip install git+https://github.com/opengeos/leafmap.git\n",
    "```\n",
    "\n",
    "To install packages from a `requirements.txt` file:\n",
    "\n",
    "```bash\n",
    "pip install -r requirements.txt\n",
    "```"
   ]
  }
 ],
 "metadata": {
  "jupytext": {
   "text_representation": {
    "extension": ".md",
    "format_name": "myst",
    "format_version": 0.13,
    "jupytext_version": "1.16.2"
   }
  },
  "kernelspec": {
   "display_name": "Python 3",
   "language": "python",
   "name": "python3"
  },
  "source_map": [
   12
  ]
 },
 "nbformat": 4,
 "nbformat_minor": 5
}