{
 "cells": [
  {
   "cell_type": "markdown",
   "id": "e7f47d1f",
   "metadata": {},
   "source": [
    "# Schedule\n",
    "\n",
    "<iframe src=\"https://docs.google.com/document/d/e/2PACX-1vQsqUvRwGfWB01PFt4At4GR1Wyi906ZbGgBp_lXdB_W8msZjZSVpOk3fDvM7BOTj5rJ7qtkkEU81vLq/pub?embedded=true\" width=\"100%\" height=800></iframe>"
   ]
  }
 ],
 "metadata": {
  "jupytext": {
   "text_representation": {
    "extension": ".md",
    "format_name": "myst",
    "format_version": 0.13,
    "jupytext_version": "1.16.2"
   }
  },
  "kernelspec": {
   "display_name": "Python 3",
   "language": "python",
   "name": "python3"
  },
  "source_map": [
   12
  ]
 },
 "nbformat": 4,
 "nbformat_minor": 5
}