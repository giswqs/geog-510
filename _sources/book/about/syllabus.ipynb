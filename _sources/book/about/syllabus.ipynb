{
 "cells": [
  {
   "cell_type": "markdown",
   "id": "16695e40",
   "metadata": {},
   "source": [
    "# Syllabus\n",
    "\n",
    "This is the [syllabus](https://docs.google.com/document/d/1HnGFi6aLeEK0EwpfYXEHOhi_ao6cq8FQXD86muGe4qQ/edit?usp=sharing) for the course. It is subject to change.\n",
    "\n",
    "<iframe src=\"https://docs.google.com/document/d/e/2PACX-1vQjbg9u6N_1Q2bABeMgYYsFNbSJE7Dc6jYvYOwn5pAq5NLXVoIXxaswv10op-6ZDnCYehUDItxP50rF/pub?embedded=true\" width=\"100%\" height=800></iframe>"
   ]
  }
 ],
 "metadata": {
  "jupytext": {
   "text_representation": {
    "extension": ".md",
    "format_name": "myst",
    "format_version": 0.13,
    "jupytext_version": "1.16.2"
   }
  },
  "kernelspec": {
   "display_name": "Python 3",
   "language": "python",
   "name": "python3"
  },
  "source_map": [
   12
  ]
 },
 "nbformat": 4,
 "nbformat_minor": 5
}