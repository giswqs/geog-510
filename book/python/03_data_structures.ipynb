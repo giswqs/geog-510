{
 "cells": [
  {
   "cell_type": "markdown",
   "id": "0",
   "metadata": {},
   "source": [
    "# Data Structures\n",
    "\n",
    "[![Open In Colab](https://colab.research.google.com/assets/colab-badge.svg)](https://colab.research.google.com/github/giswqs/geog-510/blob/main/book/python/03_data_structures.ipynb)\n",
    "\n",
    "## Overview\n",
    "\n",
    "In this lecture, we will explore the fundamental Python data structures: Tuples, Lists, Sets, and Dictionaries. These data structures are essential tools in geospatial programming, enabling you to efficiently store, manage, and manipulate various types of data. By mastering these structures, you will be able to handle complex geospatial datasets with ease, paving the way for more advanced analysis and processing tasks.\n",
    "\n",
    "## Learning Objectives\n",
    "\n",
    "By the end of this lecture, you should be able to:\n",
    "\n",
    "- Understand the characteristics and use cases of Python tuples, lists, sets, and dictionaries.\n",
    "- Apply these data structures to store and manipulate geospatial data, such as coordinates, paths, and attribute information.\n",
    "- Differentiate between mutable and immutable data structures and choose the appropriate structure for different geospatial tasks.\n",
    "- Perform common operations on these data structures, including indexing, slicing, adding/removing elements, and updating values.\n",
    "- Utilize dictionaries to manage geospatial feature attributes and understand the importance of key-value pairs in geospatial data management."
   ]
  },
  {
   "cell_type": "markdown",
   "id": "1",
   "metadata": {},
   "source": [
    "## Tuples\n",
    "\n",
    "Tuples are immutable sequences, meaning that once a tuple is created, its elements cannot be changed. Tuples are useful for storing fixed collections of items.\n",
    "\n",
    "For example, a tuple can be used to store the coordinates of a geographic point (latitude, longitude)."
   ]
  },
  {
   "cell_type": "code",
   "execution_count": 1,
   "id": "2",
   "metadata": {},
   "outputs": [],
   "source": [
    "point = (\n",
    "    35.6895,\n",
    "    139.6917,\n",
    ")  # Tuple representing a geographic point (latitude, longitude)"
   ]
  },
  {
   "cell_type": "markdown",
   "id": "3",
   "metadata": {},
   "source": [
    "You can access elements in a tuple using indexing:"
   ]
  },
  {
   "cell_type": "code",
   "execution_count": 2,
   "id": "4",
   "metadata": {},
   "outputs": [
    {
     "name": "stdout",
     "output_type": "stream",
     "text": [
      "Latitude: 35.6895, Longitude: 139.6917\n"
     ]
    }
   ],
   "source": [
    "latitude = point[0]\n",
    "longitude = point[1]\n",
    "print(f\"Latitude: {latitude}, Longitude: {longitude}\")"
   ]
  },
  {
   "cell_type": "markdown",
   "id": "5",
   "metadata": {},
   "source": [
    "## Lists\n",
    "\n",
    "Lists are ordered, mutable sequences, meaning you can change, add, or remove elements after the list has been created. Lists are very flexible and can store multiple types of data, making them useful for various geospatial tasks.\n",
    "\n",
    "For example, you can store a list of coordinates representing a path or boundary."
   ]
  },
  {
   "cell_type": "code",
   "execution_count": 3,
   "id": "6",
   "metadata": {},
   "outputs": [],
   "source": [
    "path = [\n",
    "    (35.6895, 139.6917),\n",
    "    (34.0522, -118.2437),\n",
    "    (51.5074, -0.1278),\n",
    "]  # List of tuples representing a path"
   ]
  },
  {
   "cell_type": "markdown",
   "id": "7",
   "metadata": {},
   "source": [
    "You can add a new point to the path:"
   ]
  },
  {
   "cell_type": "code",
   "execution_count": 4,
   "id": "8",
   "metadata": {},
   "outputs": [
    {
     "name": "stdout",
     "output_type": "stream",
     "text": [
      "Updated path: [(35.6895, 139.6917), (34.0522, -118.2437), (51.5074, -0.1278), (48.8566, 2.3522)]\n"
     ]
    }
   ],
   "source": [
    "path.append((48.8566, 2.3522))  # Adding Paris to the path\n",
    "print(\"Updated path:\", path)"
   ]
  },
  {
   "cell_type": "code",
   "execution_count": 7,
   "id": "8ae99903",
   "metadata": {},
   "outputs": [
    {
     "ename": "TypeError",
     "evalue": "'tuple' object does not support item assignment",
     "output_type": "error",
     "traceback": [
      "\u001b[1;31m---------------------------------------------------------------------------\u001b[0m",
      "\u001b[1;31mTypeError\u001b[0m                                 Traceback (most recent call last)",
      "Cell \u001b[1;32mIn[7], line 1\u001b[0m\n\u001b[1;32m----> 1\u001b[0m \u001b[43mpath\u001b[49m\u001b[43m[\u001b[49m\u001b[38;5;241;43m1\u001b[39;49m\u001b[43m]\u001b[49m\u001b[43m[\u001b[49m\u001b[38;5;241;43m0\u001b[39;49m\u001b[43m]\u001b[49m \u001b[38;5;241m=\u001b[39m \u001b[38;5;241m40.7128\u001b[39m  \u001b[38;5;66;03m# Will raise a TypeError\u001b[39;00m\n",
      "\u001b[1;31mTypeError\u001b[0m: 'tuple' object does not support item assignment"
     ]
    }
   ],
   "source": [
    "path[1][0] = 40.7128  # Will raise a TypeError"
   ]
  },
  {
   "cell_type": "code",
   "execution_count": 9,
   "id": "39c1a822",
   "metadata": {},
   "outputs": [
    {
     "data": {
      "text/plain": [
       "(40.7128, -74.006)"
      ]
     },
     "execution_count": 9,
     "metadata": {},
     "output_type": "execute_result"
    }
   ],
   "source": [
    "path[1] = (40.7128, -74.0060)  # Replace entire tuple\n",
    "path[1]"
   ]
  },
  {
   "cell_type": "code",
   "execution_count": 12,
   "id": "b7e88c88",
   "metadata": {},
   "outputs": [
    {
     "data": {
      "text/plain": [
       "'End of path'"
      ]
     },
     "execution_count": 12,
     "metadata": {},
     "output_type": "execute_result"
    }
   ],
   "source": [
    "path.append(\"End of path\")\n",
    "path[4]"
   ]
  },
  {
   "cell_type": "markdown",
   "id": "9",
   "metadata": {},
   "source": [
    "Lists allow you to perform various operations such as slicing, which lets you access a subset of the list:"
   ]
  },
  {
   "cell_type": "code",
   "execution_count": null,
   "id": "10",
   "metadata": {},
   "outputs": [],
   "source": [
    "sub_path = path[:2]  # Slicing the first two points from the path\n",
    "print(\"Sub-path:\", sub_path)"
   ]
  },
  {
   "cell_type": "markdown",
   "id": "11",
   "metadata": {},
   "source": [
    "## Sets\n",
    "\n",
    "Sets are unordered collections of unique elements. Sets are useful when you need to store a collection of items but want to eliminate duplicates.\n",
    "\n",
    "For example, you might want to store a set of unique geographic regions visited during a survey."
   ]
  },
  {
   "cell_type": "code",
   "execution_count": 17,
   "id": "12",
   "metadata": {},
   "outputs": [],
   "source": [
    "regions = [\"North America\", \"Europe\", \"Asia\", \"asia\", \"Asia\", \"&\", 10, \"EUrope\"]  # Set of regions\n",
    "regions = set(regions)"
   ]
  },
  {
   "cell_type": "markdown",
   "id": "13",
   "metadata": {},
   "source": [
    "You can add a new region to the set:"
   ]
  },
  {
   "cell_type": "code",
   "execution_count": 19,
   "id": "14",
   "metadata": {},
   "outputs": [
    {
     "name": "stdout",
     "output_type": "stream",
     "text": [
      "Updated regions: {'Asia', 'EUrope', 'Africa', 10, 'Europe', 'North America', 'asia', '&'}\n"
     ]
    }
   ],
   "source": [
    "regions.add(\"Africa\")\n",
    "print(\"Updated regions:\", regions)"
   ]
  },
  {
   "cell_type": "code",
   "execution_count": 20,
   "id": "4a44bec5",
   "metadata": {},
   "outputs": [
    {
     "data": {
      "text/plain": [
       "{'&',\n",
       " 10,\n",
       " 'Africa',\n",
       " 'Asia',\n",
       " 'Australia',\n",
       " 'EUrope',\n",
       " 'Europe',\n",
       " 'North America',\n",
       " 'asia'}"
      ]
     },
     "execution_count": 20,
     "metadata": {},
     "output_type": "execute_result"
    }
   ],
   "source": [
    "regions.add(\"Australia\")  # Adding Australia to the set\n",
    "regions.add(\"Asia\")  # Adding Asia again to the set\n",
    "regions"
   ]
  },
  {
   "cell_type": "markdown",
   "id": "15",
   "metadata": {},
   "source": [
    "Since sets do not allow duplicates, adding an existing region will not change the set:"
   ]
  },
  {
   "cell_type": "code",
   "execution_count": null,
   "id": "16",
   "metadata": {},
   "outputs": [],
   "source": [
    "regions.add(\"Europe\")  # Attempting to add a duplicate element\n",
    "print(\"Regions after attempting to add duplicate:\", regions)"
   ]
  },
  {
   "cell_type": "markdown",
   "id": "17",
   "metadata": {},
   "source": [
    "## Dictionaries\n",
    "\n",
    "Dictionaries are collections of key-value pairs, where each key is unique. Dictionaries are extremely useful for storing data that is associated with specific identifiers, such as attribute data for geographic features.\n",
    "\n",
    "For example, you can use a dictionary to store attributes of a geospatial feature, such as a city."
   ]
  },
  {
   "cell_type": "code",
   "execution_count": 21,
   "id": "18",
   "metadata": {},
   "outputs": [],
   "source": [
    "city_attributes = {\n",
    "    \"name\": \"Tokyo\",\n",
    "    \"population\": 13929286,\n",
    "    \"coordinates\": (35.6895, 139.6917),\n",
    "}  # Dictionary storing attributes of a city"
   ]
  },
  {
   "cell_type": "markdown",
   "id": "19",
   "metadata": {},
   "source": [
    "You can access the values associated with specific keys:"
   ]
  },
  {
   "cell_type": "code",
   "execution_count": 22,
   "id": "20",
   "metadata": {},
   "outputs": [
    {
     "name": "stdout",
     "output_type": "stream",
     "text": [
      "City: Tokyo, Population: 13929286\n"
     ]
    }
   ],
   "source": [
    "city_name = city_attributes[\"name\"]\n",
    "city_population = city_attributes[\"population\"]\n",
    "print(f\"City: {city_name}, Population: {city_population}\")"
   ]
  },
  {
   "cell_type": "markdown",
   "id": "21",
   "metadata": {},
   "source": [
    "You can also add or update key-value pairs in a dictionary:"
   ]
  },
  {
   "cell_type": "code",
   "execution_count": 23,
   "id": "22",
   "metadata": {},
   "outputs": [
    {
     "name": "stdout",
     "output_type": "stream",
     "text": [
      "Updated city attributes: {'name': 'Tokyo', 'population': 13929286, 'coordinates': (35.6895, 139.6917), 'area_km2': 2191}\n"
     ]
    }
   ],
   "source": [
    "city_attributes[\"area_km2\"] = 2191  # Adding the area of the city in square kilometers\n",
    "print(\"Updated city attributes:\", city_attributes)"
   ]
  },
  {
   "cell_type": "code",
   "execution_count": 24,
   "id": "75a6739a",
   "metadata": {},
   "outputs": [
    {
     "data": {
      "text/plain": [
       "13929286"
      ]
     },
     "execution_count": 24,
     "metadata": {},
     "output_type": "execute_result"
    }
   ],
   "source": [
    "city_attributes.get(\"population\")"
   ]
  },
  {
   "cell_type": "code",
   "execution_count": 26,
   "id": "1a154212",
   "metadata": {},
   "outputs": [
    {
     "data": {
      "text/plain": [
       "True"
      ]
     },
     "execution_count": 26,
     "metadata": {},
     "output_type": "execute_result"
    }
   ],
   "source": [
    "city_attributes.get(\"mayor\") is None"
   ]
  },
  {
   "cell_type": "markdown",
   "id": "23",
   "metadata": {},
   "source": [
    "## Exercises\n",
    "\n",
    "Create a dictionary to store attributes of a geographic feature (e.g., a river or mountain). Include keys for the name, length, and location of the feature. Then, add an additional attribute (e.g., the source of the river or the height of the mountain) and print the dictionary."
   ]
  },
  {
   "cell_type": "code",
   "execution_count": 28,
   "id": "24",
   "metadata": {},
   "outputs": [],
   "source": [
    "tnriver = {\n",
    "    \"source\": \"Tennessee River\",\n",
    "    \"length\": 652,\n",
    "    \"mouth\": \"Ohio River\",\n",
    "}  # Dictionary representing a river"
   ]
  },
  {
   "cell_type": "code",
   "execution_count": 30,
   "id": "7ea9ea0b",
   "metadata": {},
   "outputs": [
    {
     "name": "stdout",
     "output_type": "stream",
     "text": [
      "Tennessee River: {'source': 'Tennessee River', 'length': 652, 'mouth': 'Ohio River', 'Continent': 'North America'}\n"
     ]
    }
   ],
   "source": [
    "tnriver[\"Continent\"] = \"North America\"  # Adding the continent attribute\n",
    "print(\"Tennessee River:\", tnriver)"
   ]
  },
  {
   "cell_type": "markdown",
   "id": "25",
   "metadata": {},
   "source": [
    "## Summary\n",
    "\n",
    "Understanding and utilizing Python's data structures such as tuples, lists, sets, and dictionaries are fundamental skills in geospatial programming. These structures provide the flexibility and functionality required to manage and manipulate spatial data effectively.\n",
    "\n",
    "Continue exploring these data structures by applying them to your geospatial projects and analyses."
   ]
  }
 ],
 "metadata": {
  "kernelspec": {
   "display_name": "510",
   "language": "python",
   "name": "python3"
  },
  "language_info": {
   "codemirror_mode": {
    "name": "ipython",
    "version": 3
   },
   "file_extension": ".py",
   "mimetype": "text/x-python",
   "name": "python",
   "nbconvert_exporter": "python",
   "pygments_lexer": "ipython3",
   "version": "3.12.8"
  }
 },
 "nbformat": 4,
 "nbformat_minor": 5
}
