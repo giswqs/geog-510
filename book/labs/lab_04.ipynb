{
 "cells": [
  {
   "cell_type": "markdown",
   "metadata": {},
   "source": [
    "# Lab 4\n",
    "\n",
    "[![Open In Colab](https://colab.research.google.com/assets/colab-badge.svg)](https://colab.research.google.com/github/giswqs/geog-510/blob/main/book/labs/lab_04.ipynb)"
   ]
  },
  {
   "cell_type": "markdown",
   "metadata": {},
   "source": [
    "## Exercise 1: Variable Assignment and Basic Operations\n",
    "\n",
    "Create variables to store the following geospatial data:\n",
    "\n",
    "- The latitude and longitude of New York City: 40.7128, -74.0060.\n",
    "- The population of New York City: 8,336,817.\n",
    "- The area of New York City in square kilometers: 783.8.\n",
    "\n",
    "Perform the following tasks:\n",
    "\n",
    "1. Calculate and print the population density of New York City (population per square kilometer).\n",
    "2. Print the coordinates in the format \"Latitude: [latitude], Longitude: [longitude]\"."
   ]
  },
  {
   "cell_type": "code",
   "execution_count": null,
   "metadata": {},
   "outputs": [],
   "source": [
    "nyc = {\n",
    "    \"latitude\": 40.7128,\n",
    "    \"longitude\": -74.0060,\n",
    "    \"population\": 8336817,\n",
    "    \"area\": 783.8,\n",
    "}"
   ]
  },
  {
   "cell_type": "code",
   "execution_count": null,
   "metadata": {},
   "outputs": [],
   "source": [
    "# Pop density\n",
    "pop_desnisty = nyc[\"population\"] / nyc[\"area\"]\n",
    "print(pop_desnisty)"
   ]
  },
  {
   "cell_type": "code",
   "execution_count": null,
   "metadata": {},
   "outputs": [],
   "source": [
    "# print lat & lon\n",
    "print(f\"Latitude: {nyc[\"latitude\"]}, Longitude: {nyc[\"longitude\"]}\")"
   ]
  },
  {
   "cell_type": "markdown",
   "metadata": {},
   "source": [
    "## Exercise 2: Working with Strings\n",
    "\n",
    "Create a string variable to store the name of a city, such as \"San Francisco\". Perform the following operations:\n",
    "\n",
    "1. Convert the string to lowercase and print the result.\n",
    "2. Convert the string to uppercase and print the result.\n",
    "3. Replace \"San\" with \"Los\" in the city name and print the new string."
   ]
  },
  {
   "cell_type": "code",
   "execution_count": null,
   "metadata": {},
   "outputs": [],
   "source": [
    "city = \"San Fransisco\"\n",
    "\n",
    "# Question 1\n",
    "city_lowercase = city.lower()\n",
    "print(city_lowercase)\n",
    "\n",
    "# Question 2\n",
    "city_uppercase = city.upper()\n",
    "print(city_uppercase)\n",
    "\n",
    "# Question 3\n",
    "city_new = city.replace(\"San\", \"Los\")\n",
    "# method 2 city_prefix = \"Los\" + city[3:]\n",
    "print(city_new)"
   ]
  },
  {
   "cell_type": "markdown",
   "metadata": {},
   "source": [
    "## Exercise 3: Using Lists\n",
    "\n",
    "Create a list of tuples, where each tuple contains the name of a city and its corresponding latitude and longitude:\n",
    "\n",
    "- New York City: (40.7128, -74.0060)\n",
    "- Los Angeles: (34.0522, -118.2437)\n",
    "- Chicago: (41.8781, -87.6298)\n",
    "\n",
    "Perform the following tasks:\n",
    "\n",
    "1. Add a new city (e.g., Miami: (25.7617, -80.1918)) to the list.\n",
    "2. Print the entire list of cities.\n",
    "3. Slice the list to print only the first two cities."
   ]
  },
  {
   "cell_type": "code",
   "execution_count": null,
   "metadata": {},
   "outputs": [],
   "source": [
    "# List of cities with coordinates\n",
    "cities = [\n",
    "    (\"New York City\", (40.7128, -74.0060)),\n",
    "    (\"Los Angeles\", (34.0522, -118.2437)),\n",
    "    (\"Chicago\", (41.8781, -87.6298)),\n",
    "]\n",
    "\n",
    "# Question 1\n",
    "cities.append((\"Miami\", (25.7617, -80.1918)))\n",
    "# Question 2\n",
    "print(cities)\n",
    "\n",
    "# Question 3\n",
    "print(cities[0:2])"
   ]
  },
  {
   "cell_type": "markdown",
   "metadata": {},
   "source": [
    "## Exercise 4: Using Tuples\n",
    "\n",
    "Create a tuple to store the coordinates (latitude, longitude) of the Eiffel Tower: (48.8584, 2.2945). Perform the following tasks:\n",
    "\n",
    "1. Access and print the latitude and longitude values from the tuple.\n",
    "2. Try to change the latitude value to 48.8585. What happens? Explain why."
   ]
  },
  {
   "cell_type": "code",
   "execution_count": null,
   "metadata": {},
   "outputs": [],
   "source": [
    "eiffel_tower = (48.8584, 2.2945)\n",
    "\n",
    "# Question 1\n",
    "print(\"latitude:\", eiffel_tower[0])\n",
    "print(\"longitude:\", eiffel_tower[1])\n",
    "\n",
    "# Question 2\n",
    "# eiffel_tower[0] = 41.6619\n",
    "# This results in an error message ('tuple' object does not support item assignment).\n",
    "# This is because tuples are immutable, meaning they cannot be changed once created."
   ]
  },
  {
   "cell_type": "code",
   "execution_count": null,
   "metadata": {},
   "outputs": [],
   "source": []
  },
  {
   "cell_type": "markdown",
   "metadata": {},
   "source": [
    "## Exercise 5: Working with Sets\n",
    "\n",
    "Create a set of countries you have visited, such as {\"USA\", \"France\", \"Germany\"}. Perform the following tasks:\n",
    "\n",
    "1. Add a new country to the set.\n",
    "2. Try to add the same country again. What happens?\n",
    "3. Print the updated set."
   ]
  },
  {
   "cell_type": "code",
   "execution_count": null,
   "metadata": {},
   "outputs": [],
   "source": [
    "visited_countries = {\"France\", \"Zambia\", \"United States\", \"Kenya\"}\n",
    "\n",
    "# Question 1\n",
    "visited_countries.add(\"Italy\")\n",
    "\n",
    "\n",
    "# Question 2 & 3\n",
    "# Nothing happens when you try to add an element that already exists in the set. No duplicates are allowed.\n",
    "visited_countries.add(\"Italy\")\n",
    "print(visited_countries)"
   ]
  },
  {
   "cell_type": "markdown",
   "metadata": {},
   "source": [
    "## Exercise 6: Working with Dictionaries\n",
    "\n",
    "Create a dictionary to store information about a specific geospatial feature, such as a river:\n",
    "\n",
    "- Name: \"Amazon River\"\n",
    "- Length: 6400 km\n",
    "- Countries: [\"Brazil\", \"Peru\", \"Colombia\"]\n",
    "\n",
    "Perform the following tasks:\n",
    "\n",
    "1. Add a new key-value pair to the dictionary to store the river's average discharge (e.g., 209,000 m³/s).\n",
    "2. Update the length of the river to 6992 km.\n",
    "3. Print the dictionary."
   ]
  },
  {
   "cell_type": "code",
   "execution_count": null,
   "metadata": {},
   "outputs": [],
   "source": [
    "river = {\n",
    "    \"Name\": \"Amazon River\",\n",
    "    \"Length\": \"6400 km\",\n",
    "    \"Countries\": [\"Brazil\", \"Peru\", \"Colombia\"],\n",
    "}\n",
    "\n",
    "# Question 1\n",
    "river[\"discharge\"] = \"209,000 m³/s\"\n",
    "\n",
    "# Question 2\n",
    "river[\"Length\"] = \"6992 km\"\n",
    "\n",
    "# Question 3\n",
    "print(river)"
   ]
  },
  {
   "cell_type": "markdown",
   "metadata": {},
   "source": [
    "## Exercise 7: Nested Data Structures\n",
    "\n",
    "Create a dictionary to represent a city that contains the city's name, population, and coordinates (latitude, longitude):\n",
    "\n",
    "- Name: \"Tokyo\"\n",
    "- Population: 13,515,271\n",
    "- Coordinates: (35.6895, 139.6917)\n",
    "\n",
    "Perform the following tasks:\n",
    "\n",
    "1. Access and print the population of the city.\n",
    "2. Access and print the city's latitude.\n",
    "3. Update the population to 14,000,000 and print the updated dictionary."
   ]
  },
  {
   "cell_type": "code",
   "execution_count": null,
   "metadata": {},
   "outputs": [],
   "source": [
    "city_name = {\n",
    "    \"Name\": \"Tokyo\",\n",
    "    \"Population\": 13515271,\n",
    "    \"Coordinates\": (35.6895, 139.6917),\n",
    "}\n",
    "\n",
    "# Question 1\n",
    "print(city_name[\"Population\"])\n",
    "\n",
    "# Question 2\n",
    "print(city_name[\"Coordinates\"][0])\n",
    "\n",
    "# Question 3\n",
    "city_name[\"Population\"] = 14000000\n",
    "print(city_name)"
   ]
  },
  {
   "cell_type": "markdown",
   "metadata": {},
   "source": [
    "## Exercise 8: List Operations\n",
    "\n",
    "Given the list of cities from Exercise 3, perform the following operations:\n",
    "\n",
    "1. Sort the list of cities alphabetically by name.\n",
    "2. Create a new list that contains only the city names.\n",
    "3. Remove the last city from the original list and print the updated list."
   ]
  },
  {
   "cell_type": "code",
   "execution_count": null,
   "metadata": {},
   "outputs": [],
   "source": [
    "# List of cities with coordinates\n",
    "cities = [\n",
    "    (\"New York City\", (40.7128, -74.0060)),\n",
    "    (\"Los Angeles\", (34.0522, -118.2437)),\n",
    "    (\"Chicago\", (41.8781, -87.6298)),\n",
    "]\n",
    "\n",
    "# Question 1\n",
    "cities.sort()\n",
    "print(cities)\n",
    "\n",
    "# Question 2\n",
    "# first convert the list to dictionary\n",
    "cities_dic = dict(cities)\n",
    "# print(cities_dic.keys())\n",
    "# Create a new list with only city names\n",
    "city_names = [city[0] for city in cities]\n",
    "print(city_names)\n",
    "\n",
    "# Question 3\n",
    "cities.pop()\n",
    "print(cities)"
   ]
  },
  {
   "cell_type": "markdown",
   "metadata": {},
   "source": [
    "## Exercise 9: Dictionary Operations\n",
    "\n",
    "Using the dictionary from Exercise 6, perform the following tasks:\n",
    "\n",
    "1. Check if the key \"Length\" exists in the dictionary.\n",
    "2. Print all the keys in the dictionary.\n",
    "3. Print all the values in the dictionary."
   ]
  },
  {
   "cell_type": "code",
   "execution_count": null,
   "metadata": {},
   "outputs": [],
   "source": [
    "river = {\n",
    "    \"Name\": \"Amazon River\",\n",
    "    \"Length\": \"6400 km\",\n",
    "    \"Countries\": [\"Brazil\", \"Peru\", \"Colombia\"],\n",
    "}\n",
    "\n",
    "# Question 1\n",
    "if \"Length\" in river:\n",
    "    print(\"The key length exists in the dictionary.\")\n",
    "\n",
    "# Question 2\n",
    "print(river.keys())\n",
    "\n",
    "# Question 3\n",
    "print(river.values())"
   ]
  },
  {
   "cell_type": "markdown",
   "metadata": {},
   "source": [
    "## Exercise 10: Practical Application\n",
    "\n",
    "Imagine you have a list of tuples, each representing a location with its name, latitude, and longitude:"
   ]
  },
  {
   "cell_type": "code",
   "execution_count": null,
   "metadata": {},
   "outputs": [],
   "source": [
    "locations = [\n",
    "    (\"Mount Everest\", 27.9881, 86.9250),\n",
    "    (\"K2\", 35.8808, 76.5155),\n",
    "    (\"Kangchenjunga\", 27.7025, 88.1475),\n",
    "]"
   ]
  },
  {
   "cell_type": "markdown",
   "metadata": {},
   "source": [
    "Perform the following tasks:\n",
    "\n",
    "1. Create a new list that contains only the names of the locations.\n",
    "2. Create a dictionary where the keys are location names and the values are tuples of their coordinates.\n",
    "3. Print the latitude of \"K2\" using the dictionary."
   ]
  },
  {
   "cell_type": "code",
   "execution_count": null,
   "metadata": {},
   "outputs": [],
   "source": [
    "locations = [\n",
    "    (\"Mount Everest\", 27.9881, 86.9250),\n",
    "    (\"K2\", 35.8808, 76.5155),\n",
    "    (\"Kangchenjunga\", 27.7025, 88.1475),\n",
    "]\n",
    "# Question 1\n",
    "name_location = [loca[0] for loca in locations]\n",
    "print(name_location)\n",
    "\n",
    "# Question 2\n",
    "# this is coz the list is a list of tuples have no 2 ltems to ley and val instead its three values\n",
    "dic_locations = {loca[0]: (loca[1], loca[2]) for loca in locations}\n",
    "print(dic_locations)\n",
    "\n",
    "# Question 3\n",
    "print(f\"location of latitude K2 is : {dic_locations[\"K2\"][0]}\")"
   ]
  },
  {
   "cell_type": "markdown",
   "metadata": {},
   "source": [
    "## Exercise 11: Manipulating Geographic Location Strings\n",
    "\n",
    "- Create a string that represents the name of a geographic feature (e.g., `\"Amazon River\"`).\n",
    "- Convert the string to lowercase and then to uppercase.\n",
    "- Concatenate the string with the name of the country (e.g., `\"Brazil\"`) to create a full location name.\n",
    "- Repeat the string three times, separating each repetition with a dash (`-`)."
   ]
  },
  {
   "cell_type": "code",
   "execution_count": null,
   "metadata": {},
   "outputs": [],
   "source": [
    "river_name = \"Amazon River\"\n",
    "river_name_lowercase = river_name.lower()\n",
    "print(river_name_lowercase)\n",
    "\n",
    "river_name_uppercase = river_name.upper()\n",
    "print(river_name_uppercase)\n",
    "\n",
    "river_name_full = river_name + \" Brazil\"\n",
    "\n",
    "river_3x = (river_name_full + \" - \") * 3\n",
    "river_3x = river_3x.rstrip(\" - \")  # Remove the trailing hyphen and space\n",
    "print(river_3x)"
   ]
  },
  {
   "cell_type": "markdown",
   "metadata": {},
   "source": [
    "## Exercise 12: Extracting and Formatting Coordinates\n",
    "\n",
    "- Given a string with the format `\"latitude, longitude\"` (e.g., `\"40.7128N, 74.0060W\"`), extract the numeric values of latitude and longitude.\n",
    "- Convert these values to floats and remove the directional indicators (`N`, `S`, `E`, `W`).\n",
    "- Format the coordinates into a `POINT` WKT string (e.g., `\"POINT(-74.0060 40.7128)\"`)."
   ]
  },
  {
   "cell_type": "code",
   "execution_count": null,
   "metadata": {},
   "outputs": [],
   "source": [
    "latitude, longitude = \"40.7128N\", \"74.0060W\"\n",
    "latitude = float(latitude[:-1])\n",
    "longitude = float(longitude[:-1])\n",
    "print(latitude, longitude)\n",
    "\n",
    "wkt_format = f\"POINT({longitude} {latitude})\"\n",
    "print(wkt_format)"
   ]
  },
  {
   "cell_type": "markdown",
   "metadata": {},
   "source": [
    "## Exercise 13: Building Dynamic SQL Queries\n",
    "\n",
    "- Given a table name and a condition, dynamically build an SQL query string.\n",
    "- Example: If `table_name = \"cities\"` and `condition = \"population > 1000000\"`, the query should be `\"SELECT * FROM cities WHERE population > 1000000;\"`.\n",
    "- Add additional conditions dynamically, like `AND` clauses."
   ]
  },
  {
   "cell_type": "code",
   "execution_count": null,
   "metadata": {},
   "outputs": [],
   "source": [
    "table_name = \"cities\"\n",
    "population = 1000000\n",
    "\n",
    "sql_text = f\"SELECT * FROM {table_name} WHERE population > {population}\"\n",
    "print(sql_text)"
   ]
  },
  {
   "cell_type": "markdown",
   "metadata": {},
   "source": [
    "## Exercise 14: String Normalization and Cleaning\n",
    "\n",
    "- Given a list of city names with inconsistent formatting (e.g., `[\" new york \", \"Los ANGELES\", \"   CHICAGO\"]`), normalize the names by:\n",
    "  - Stripping any leading or trailing whitespace.\n",
    "  - Converting them to title case (e.g., `\"New York\"`, `\"Los Angeles\"`, `\"Chicago\"`).\n",
    "- Ensure that the output is a clean list of city names."
   ]
  },
  {
   "cell_type": "code",
   "execution_count": null,
   "metadata": {},
   "outputs": [],
   "source": [
    "city_name_list = [\" new york \", \"Los ANGELES\", \"   CHICAGO\"]\n",
    "# Strip white space & title case\n",
    "city_name_list_clean = [city.strip().title() for city in city_name_list]\n",
    "print(city_name_list_clean)"
   ]
  },
  {
   "cell_type": "markdown",
   "metadata": {},
   "source": [
    "## Exercise 15: Parsing and Extracting Address Information\n",
    "\n",
    "- Given a string in the format `\"Street, City, Country\"` (e.g., `\"123 Main St, Springfield, USA\"`), write a function that parses the string into a dictionary with keys `street`, `city`, and `country`.\n",
    "- The function should return a dictionary like `{\"street\": \"123 Main St\", \"city\": \"Springfield\", \"country\": \"USA\"}`."
   ]
  },
  {
   "cell_type": "code",
   "execution_count": null,
   "metadata": {},
   "outputs": [],
   "source": [
    "string_1 = \"Street, City, Country\"\n",
    "string_2 = \"123 Main St, Springfield, USA\"\n",
    "list_1 = string_1.split(\", \")\n",
    "list_2 = string_2.split(\", \")\n",
    "\n",
    "# convert the list to dictionary\n",
    "\n",
    "string_dict = dict(zip(list_1, list_2))\n",
    "print(string_dict)"
   ]
  },
  {
   "cell_type": "markdown",
   "metadata": {},
   "source": [
    "## Exercise 16: Using For Loops to Process Coordinate Lists\n",
    "\n",
    "- Create a list of tuples representing coordinates (latitude, longitude).\n",
    "- Write a `for` loop that prints each coordinate and indicates whether it is in the Northern or Southern Hemisphere based on the latitude."
   ]
  },
  {
   "cell_type": "code",
   "execution_count": null,
   "metadata": {},
   "outputs": [],
   "source": [
    "coord_list = [\n",
    "    (-23.7128, 27.0060),\n",
    "    (34.0522, -118.2437),\n",
    "    (41.8781, -87.6298),\n",
    "    (-12.089, 32.453),\n",
    "]\n",
    "\n",
    "for coord in coord_list:\n",
    "    lat, lon = coord\n",
    "    # print(f\"Latitude: {lat}, Longitude: {lon}\")\n",
    "    if lat > 0:\n",
    "        print(f\"Coordinate {coord} is in the Northern Hemisphere\")\n",
    "    elif lat < 0:\n",
    "        print(f\"Coordinate {coord} is in the Southern Hemisphere\")\n",
    "    else:\n",
    "        print(f\"Coordinate {coord} is on the Equator\")"
   ]
  },
  {
   "cell_type": "markdown",
   "metadata": {},
   "source": [
    "## Exercise 17: While Loops for Iterative Processing\n",
    "\n",
    "- Create a list of coordinates (latitude, longitude).\n",
    "- Write a `while` loop that continues to print each coordinate until it encounters a coordinate with a negative latitude.\n",
    "- Stop the loop once this condition is met."
   ]
  },
  {
   "cell_type": "code",
   "execution_count": null,
   "metadata": {},
   "outputs": [],
   "source": [
    "coord_list = [\n",
    "    (45.4093, 96.9837),\n",
    "    (43.7128, -27.0060),\n",
    "    (-12.089, 32.453),\n",
    "    (34.0522, -118.2437),\n",
    "    (41.8781, -87.6298),\n",
    "]\n",
    "len(coord_list)\n",
    "\n",
    "num = 0\n",
    "while num < len(coord_list):\n",
    "    lat, lon = coord_list[num]\n",
    "    if lat > 0:\n",
    "        print(f\"latitude: {lat}, Longitude: {lon}\")\n",
    "    else:\n",
    "        print(\"Negative latitude, breaking the loop.\")\n",
    "        break\n",
    "    num += 1"
   ]
  },
  {
   "cell_type": "markdown",
   "metadata": {},
   "source": [
    "## Exercise 18: Conditional Logic in Loops\n",
    "\n",
    "- Create a list of coordinates and use a `for` loop to iterate over them.\n",
    "- Use an `if-elif-else` statement inside the loop to classify each coordinate based on its longitude:\n",
    "  - Print `\"Eastern Hemisphere\"` if the longitude is greater than 0.\n",
    "  - Print `\"Western Hemisphere\"` if the longitude is less than 0."
   ]
  },
  {
   "cell_type": "code",
   "execution_count": null,
   "metadata": {},
   "outputs": [],
   "source": [
    "coordinates = [\n",
    "    (45.4093, 96.9837),\n",
    "    (43.7128, -27.0060),\n",
    "    (-12.089, 32.453),\n",
    "    (34.0522, -118.2437),\n",
    "    (41.8781, -87.6298),\n",
    "]\n",
    "\n",
    "for coord in coordinates:\n",
    "    lat, lon = coord\n",
    "    # print(f\"Latitude: {lat}, Longitude: {lon}\")\n",
    "    if lon > 0:\n",
    "        print(f\"Coordinate {coord} is in the Eastern Hemisphere\")\n",
    "    elif lon < 0:\n",
    "        print(f\"Coordinate {coord} is in the Western Hemisphere\")\n",
    "    elif lon == 0:\n",
    "        print(f\"Coordinate {coord} is on the Prime Meridian\")"
   ]
  },
  {
   "cell_type": "markdown",
   "metadata": {},
   "source": [
    "## Exercise 19: Filtering Data with Combined Loops and Conditionals\n",
    "\n",
    "- Given a list of coordinates, filter out and store only those located in the Southern Hemisphere (latitude < 0).\n",
    "- Count the number of coordinates that meet this condition and print the result."
   ]
  },
  {
   "cell_type": "code",
   "execution_count": null,
   "metadata": {},
   "outputs": [],
   "source": [
    "coordinates_list = [\n",
    "    (45.4093, 96.9837),\n",
    "    (43.7128, -27.0060),\n",
    "    (-12.089, 32.453),\n",
    "    (34.0522, -118.2437),\n",
    "    (-31.8781, -87.6298),\n",
    "]\n",
    "southern_hemisphere = []\n",
    "for co in coordinates_list:\n",
    "    lat, lon = co\n",
    "    if lat < 0:\n",
    "        southern_hemisphere.append(co)\n",
    "print(southern_hemisphere)\n",
    "\n",
    "# Number of filtered coordinates\n",
    "print(f\"\\nNumber of coordinates meeting the condition is {len(southern_hemisphere)}\")"
   ]
  },
  {
   "cell_type": "markdown",
   "metadata": {},
   "source": [
    "## Exercise 20: Generating and Analyzing Random Coordinates\n",
    "\n",
    "- Write a program that generates random coordinates (latitude between [-90, 90] degrees and longitude between [-180, 180] degrees).\n",
    "- Use a `while` loop to keep generating coordinates until a pair with both latitude and longitude greater than 50 is generated.\n",
    "- Print each generated coordinate and the final coordinate that meets the condition."
   ]
  },
  {
   "cell_type": "code",
   "execution_count": null,
   "metadata": {},
   "outputs": [],
   "source": [
    "import random\n",
    "\n",
    "\n",
    "def generate_random_coords():\n",
    "    while True:\n",
    "        latitude = random.uniform(-90, 90)\n",
    "        longitude = random.uniform(-180, 180)\n",
    "\n",
    "        print(\n",
    "            f\"Generated coordinates: Latitude = {latitude:.4f}, Longitude = {longitude:.4f}\"\n",
    "        )\n",
    "\n",
    "        if latitude > 50 and longitude > 50:\n",
    "            print(\"\\nFinal coordinates with lat & lon >50:\")\n",
    "            print(f\"Latitude = {latitude:.4f}, Longitude = {longitude:.4f}\")\n",
    "            break\n",
    "\n",
    "\n",
    "generate_random_coords()"
   ]
  },
  {
   "cell_type": "markdown",
   "metadata": {},
   "source": [
    "## Submission Requirements\n",
    "\n",
    "Complete the exercises above and and upload the notebook to your GitHub repository. Make sure the notebook has a Colab badge at the top so that it can be easily opened in Google Colab. Submit the URL of the notebook to Canvas."
   ]
  }
 ],
 "metadata": {
  "kernelspec": {
   "display_name": "geo",
   "language": "python",
   "name": "python3"
  },
  "language_info": {
   "codemirror_mode": {
    "name": "ipython",
    "version": 3
   },
   "file_extension": ".py",
   "mimetype": "text/x-python",
   "name": "python",
   "nbconvert_exporter": "python",
   "pygments_lexer": "ipython3",
   "version": "3.12.3"
  }
 },
 "nbformat": 4,
 "nbformat_minor": 4
}
